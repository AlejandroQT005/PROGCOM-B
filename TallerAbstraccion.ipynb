{
  "nbformat": 4,
  "nbformat_minor": 0,
  "metadata": {
    "colab": {
      "provenance": []
    },
    "kernelspec": {
      "name": "python3",
      "display_name": "Python 3"
    },
    "language_info": {
      "name": "python"
    }
  },
  "cells": [
    {
      "cell_type": "code",
      "execution_count": 10,
      "metadata": {
        "colab": {
          "base_uri": "https://localhost:8080/"
        },
        "id": "ABr9JLNjTrwz",
        "outputId": "1e832476-4387-4a98-9603-05b5df832853"
      },
      "outputs": [
        {
          "output_type": "stream",
          "name": "stdout",
          "text": [
            "Hola, Juan\n"
          ]
        }
      ],
      "source": [
        "class Saludo:\n",
        "    def saludar(self, nombre):\n",
        "        print(f\"Hola, {nombre}\")\n",
        "\n",
        "# Prueba\n",
        "s = Saludo()\n",
        "s.saludar(\"Juan\")\n"
      ]
    },
    {
      "cell_type": "code",
      "source": [
        "class Numero:\n",
        "    def __init__(self, valor):\n",
        "        self.valor = valor\n",
        "\n",
        "    def es_par(self):\n",
        "        return self.valor % 2 == 0\n",
        "\n",
        "# Prueba\n",
        "n1 = Numero(4)\n",
        "n2 = Numero(7)\n",
        "print(n1.es_par())  # True\n",
        "print(n2.es_par())  # False\n"
      ],
      "metadata": {
        "colab": {
          "base_uri": "https://localhost:8080/"
        },
        "id": "dl6uoqxHTtcr",
        "outputId": "befa4af3-2275-4a11-f035-8bb7498f87a4"
      },
      "execution_count": 9,
      "outputs": [
        {
          "output_type": "stream",
          "name": "stdout",
          "text": [
            "True\n",
            "False\n"
          ]
        }
      ]
    },
    {
      "cell_type": "code",
      "source": [
        "class Rectangulo:\n",
        "    def __init__(self, base, altura):\n",
        "        self.base = base\n",
        "        self.altura = altura\n",
        "\n",
        "    def area(self):\n",
        "        return self.base * self.altura\n",
        "\n",
        "# Prueba\n",
        "r = Rectangulo(5, 3)\n",
        "print(r.area())  # 15\n"
      ],
      "metadata": {
        "colab": {
          "base_uri": "https://localhost:8080/"
        },
        "id": "uCHJBRQZTvUz",
        "outputId": "b4b19e95-dfbf-4c10-8eaa-9ebabf7d469c"
      },
      "execution_count": 8,
      "outputs": [
        {
          "output_type": "stream",
          "name": "stdout",
          "text": [
            "15\n"
          ]
        }
      ]
    },
    {
      "cell_type": "code",
      "source": [
        "class Temperatura:\n",
        "    def __init__(self, celsius):\n",
        "        self.celsius = celsius\n",
        "\n",
        "    def a_fahrenheit(self):\n",
        "        return self.celsius * 1.8 + 32\n",
        "\n",
        "# Prueba\n",
        "t = Temperatura(25)\n",
        "print(t.a_fahrenheit())  # 77.0\n"
      ],
      "metadata": {
        "colab": {
          "base_uri": "https://localhost:8080/"
        },
        "id": "Qudw924VTweb",
        "outputId": "3095a592-e98a-4806-9ed5-1ae7d568a18a"
      },
      "execution_count": 7,
      "outputs": [
        {
          "output_type": "stream",
          "name": "stdout",
          "text": [
            "77.0\n"
          ]
        }
      ]
    },
    {
      "cell_type": "code",
      "source": [
        "class Palabra:\n",
        "    def __init__(self, texto):\n",
        "        self.texto = texto.lower()\n",
        "\n",
        "    def contar_vocales(self):\n",
        "        return sum(1 for letra in self.texto if letra in \"aeiou\")\n",
        "\n",
        "# Prueba\n",
        "p = Palabra(\"Abstracción\")\n",
        "print(p.contar_vocales())  # 4\n"
      ],
      "metadata": {
        "colab": {
          "base_uri": "https://localhost:8080/"
        },
        "id": "Szi59cRnTyIL",
        "outputId": "0e52195c-a8c6-4be3-bc33-da9574e98f33"
      },
      "execution_count": 6,
      "outputs": [
        {
          "output_type": "stream",
          "name": "stdout",
          "text": [
            "3\n"
          ]
        }
      ]
    },
    {
      "cell_type": "code",
      "source": [
        "class Palindromo:\n",
        "    def __init__(self, palabra):\n",
        "        self.palabra = palabra.lower()\n",
        "\n",
        "    def es_palindromo(self):\n",
        "        return self.palabra == self.palabra[::-1]\n",
        "\n",
        "# Prueba\n",
        "print(Palindromo(\"oso\").es_palindromo())         # True\n",
        "print(Palindromo(\"reconocer\").es_palindromo())   # True\n",
        "print(Palindromo(\"luz\").es_palindromo())         # False\n"
      ],
      "metadata": {
        "colab": {
          "base_uri": "https://localhost:8080/"
        },
        "id": "JiYvOxeTTzKb",
        "outputId": "90da8e20-ecea-4fd1-c62c-23abd922603b"
      },
      "execution_count": 5,
      "outputs": [
        {
          "output_type": "stream",
          "name": "stdout",
          "text": [
            "True\n",
            "True\n",
            "False\n"
          ]
        }
      ]
    },
    {
      "cell_type": "code",
      "source": [
        "import random\n",
        "\n",
        "class Dado:\n",
        "    def tirar(self):\n",
        "        return random.randint(1, 6)\n",
        "\n",
        "# Prueba\n",
        "d = Dado()\n",
        "print(d.tirar())\n",
        "print(d.tirar())\n"
      ],
      "metadata": {
        "colab": {
          "base_uri": "https://localhost:8080/"
        },
        "id": "L2ykWO5wT0d7",
        "outputId": "8862b5cc-8fa3-463d-f419-b067e5ebf7f4"
      },
      "execution_count": 4,
      "outputs": [
        {
          "output_type": "stream",
          "name": "stdout",
          "text": [
            "4\n",
            "4\n"
          ]
        }
      ]
    },
    {
      "cell_type": "code",
      "source": [
        "class ListaCuadrados:\n",
        "    def generar(self, n):\n",
        "        return [i**2 for i in range(1, n+1)]\n",
        "\n",
        "# Prueba\n",
        "l = ListaCuadrados()\n",
        "print(l.generar(5))  # [1, 4, 9, 16, 25]\n"
      ],
      "metadata": {
        "colab": {
          "base_uri": "https://localhost:8080/"
        },
        "id": "gpxWm92jT1br",
        "outputId": "86ac2a83-32b2-4a8e-f1d4-f6f6fb3e1e48"
      },
      "execution_count": 3,
      "outputs": [
        {
          "output_type": "stream",
          "name": "stdout",
          "text": [
            "[1, 4, 9, 16, 25]\n"
          ]
        }
      ]
    },
    {
      "cell_type": "code",
      "source": [
        "class Calculadora:\n",
        "    def operar(self, a, b, tipo):\n",
        "        if tipo == \"suma\":\n",
        "            return a + b\n",
        "        elif tipo == \"resta\":\n",
        "            return a - b\n",
        "        elif tipo == \"multiplicacion\":\n",
        "            return a * b\n",
        "        elif tipo == \"division\":\n",
        "            return a / b if b != 0 else \"Error: División por cero\"\n",
        "\n",
        "# Prueba\n",
        "calc = Calculadora()\n",
        "print(calc.operar(10, 5, \"suma\"))           # 15\n",
        "print(calc.operar(10, 5, \"resta\"))          # 5\n",
        "print(calc.operar(10, 5, \"multiplicacion\")) # 50\n",
        "print(calc.operar(10, 5, \"division\"))       # 2.0\n"
      ],
      "metadata": {
        "colab": {
          "base_uri": "https://localhost:8080/"
        },
        "id": "Lo1ZCoerT2sr",
        "outputId": "96d5e92c-7073-46c1-ed1e-ce8047a03a85"
      },
      "execution_count": 1,
      "outputs": [
        {
          "output_type": "stream",
          "name": "stdout",
          "text": [
            "15\n",
            "5\n",
            "50\n",
            "2.0\n"
          ]
        }
      ]
    },
    {
      "cell_type": "code",
      "source": [
        "class GeneradorContrasena:\n",
        "    def crear(self, nombre, año):\n",
        "        return f\"{nombre}{año}@\"\n",
        "\n",
        "# Prueba\n",
        "g = GeneradorContrasena()\n",
        "print(g.crear(\"Carlos\", 2025))  # Carlos2025@\n"
      ],
      "metadata": {
        "colab": {
          "base_uri": "https://localhost:8080/"
        },
        "id": "gCpG90eJT3wz",
        "outputId": "3e23261b-4d7e-4ae6-c07d-123c2bacb83b"
      },
      "execution_count": 2,
      "outputs": [
        {
          "output_type": "stream",
          "name": "stdout",
          "text": [
            "Carlos2025@\n"
          ]
        }
      ]
    }
  ]
}