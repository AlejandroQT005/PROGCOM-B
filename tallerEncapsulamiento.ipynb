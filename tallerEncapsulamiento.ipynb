{
  "nbformat": 4,
  "nbformat_minor": 0,
  "metadata": {
    "colab": {
      "provenance": []
    },
    "kernelspec": {
      "name": "python3",
      "display_name": "Python 3"
    },
    "language_info": {
      "name": "python"
    }
  },
  "cells": [
    {
      "cell_type": "code",
      "execution_count": 11,
      "metadata": {
        "id": "SrOuNT4ySJk1"
      },
      "outputs": [],
      "source": [
        "class Estudiante:\n",
        "    def __init__(self, nombre, nota, identificacion):\n",
        "        self.__nombre = nombre\n",
        "        self.__nota = nota if 0 <= nota <= 100 else 0\n",
        "        self.identificacion = identificacion\n",
        "\n",
        "    def get_nombre(self):\n",
        "        return self.__nombre\n",
        "\n",
        "    def get_nota(self):\n",
        "        return self.__nota\n",
        "\n",
        "    def set_nota(self, nota):\n",
        "        if 0 <= nota <= 100:\n",
        "            self.__nota = nota\n"
      ]
    },
    {
      "cell_type": "code",
      "source": [
        "class CuentaBancaria:\n",
        "    def __init__(self, titular, saldo, numero_cuenta):\n",
        "        self.__titular = titular\n",
        "        self.__saldo = saldo\n",
        "        self._numero_cuenta = numero_cuenta\n",
        "\n",
        "    def get_titular(self):\n",
        "        return self.__titular\n",
        "\n",
        "    def depositar(self, cantidad):\n",
        "        if cantidad > 0:\n",
        "            self.__saldo += cantidad\n",
        "\n",
        "    def retirar(self, cantidad):\n",
        "        if 0 < cantidad <= self.__saldo:\n",
        "            self.__saldo -= cantidad\n"
      ],
      "metadata": {
        "id": "gFwIx5cYS47E"
      },
      "execution_count": 9,
      "outputs": []
    },
    {
      "cell_type": "code",
      "source": [
        "class Libro:\n",
        "    def __init__(self, titulo, autor, paginas, isbn):\n",
        "        self.__titulo = titulo\n",
        "        self.__autor = autor\n",
        "        self._paginas = paginas if paginas > 0 else 1\n",
        "        self.isbn = isbn\n",
        "\n",
        "    def get_titulo(self):\n",
        "        return self.__titulo\n",
        "\n",
        "    def get_autor(self):\n",
        "        return self.__autor\n",
        "\n",
        "    def set_paginas(self, paginas):\n",
        "        if paginas > 0:\n",
        "            self._paginas = paginas\n"
      ],
      "metadata": {
        "id": "gL2OdAD5S720"
      },
      "execution_count": 8,
      "outputs": []
    },
    {
      "cell_type": "code",
      "source": [
        "class Vehiculo:\n",
        "    def __init__(self, marca, tipo):\n",
        "        self.__marca = marca\n",
        "        self.__velocidad = 0\n",
        "        self.tipo = tipo\n",
        "\n",
        "    def acelerar(self, incremento):\n",
        "        if self.__velocidad + incremento <= 200:\n",
        "            self.__velocidad += incremento\n",
        "\n",
        "    def frenar(self, decremento):\n",
        "        if self.__velocidad - decremento >= 0:\n",
        "            self.__velocidad -= decremento\n"
      ],
      "metadata": {
        "id": "gFEhI3XtS9gT"
      },
      "execution_count": 7,
      "outputs": []
    },
    {
      "cell_type": "code",
      "source": [
        "class Empleado:\n",
        "    def __init__(self, nombre, salario, departamento, id_empleado):\n",
        "        self.__nombre = nombre\n",
        "        self.__salario = max(0, salario)\n",
        "        self._departamento = departamento\n",
        "        self.id_empleado = id_empleado\n",
        "\n",
        "    def get_nombre(self):\n",
        "        return self.__nombre\n",
        "\n",
        "    def get_salario(self):\n",
        "        return self.__salario\n",
        "\n",
        "    def get_departamento(self):\n",
        "        return self._departamento\n",
        "\n",
        "    def set_salario(self, salario):\n",
        "        if salario >= 0:\n",
        "            self.__salario = salario\n"
      ],
      "metadata": {
        "id": "lT9YPN87S-gU"
      },
      "execution_count": 6,
      "outputs": []
    },
    {
      "cell_type": "code",
      "source": [
        "class Producto:\n",
        "    def __init__(self, nombre, precio, categoria, codigo):\n",
        "        self.__nombre = nombre\n",
        "        self.__precio = max(1, precio)\n",
        "        self._categoria = categoria\n",
        "        self.codigo = codigo\n",
        "\n",
        "    def get_nombre(self):\n",
        "        return self.__nombre\n",
        "\n",
        "    def get_precio(self):\n",
        "        return self.__precio\n",
        "\n",
        "    def set_precio(self, precio):\n",
        "        if precio > 0:\n",
        "            self.__precio = precio\n"
      ],
      "metadata": {
        "id": "5X-j5HJuS_er"
      },
      "execution_count": 5,
      "outputs": []
    },
    {
      "cell_type": "code",
      "source": [
        "class Telefono:\n",
        "    def __init__(self, numero, marca, bateria, modelo):\n",
        "        self.__numero = numero\n",
        "        self.__marca = marca\n",
        "        self._bateria = max(0, min(100, bateria))\n",
        "        self.modelo = modelo\n",
        "\n",
        "    def cargar_bateria(self, cantidad):\n",
        "        self._bateria = min(100, self._bateria + cantidad)\n",
        "\n",
        "    def usar_telefono(self, cantidad):\n",
        "        if cantidad > 0:\n",
        "            self._bateria = max(0, self._bateria - cantidad)\n"
      ],
      "metadata": {
        "id": "t-UY5ybhTAdU"
      },
      "execution_count": 4,
      "outputs": []
    },
    {
      "cell_type": "code",
      "source": [
        "class Paciente:\n",
        "    def __init__(self, nombre, edad, historial, seguro):\n",
        "        self.__nombre = nombre\n",
        "        self.__edad = max(0, edad)\n",
        "        self._historial = historial\n",
        "        self.seguro = seguro\n",
        "\n",
        "    def get_nombre(self):\n",
        "        return self.__nombre\n",
        "\n",
        "    def get_edad(self):\n",
        "        return self.__edad\n",
        "\n",
        "    def set_edad(self, edad):\n",
        "        if edad >= 0:\n",
        "            self.__edad = edad\n"
      ],
      "metadata": {
        "id": "JUA5PZlXTBZD"
      },
      "execution_count": 3,
      "outputs": []
    },
    {
      "cell_type": "code",
      "source": [
        "class Computadora:\n",
        "    def __init__(self, marca, almacenamiento, sistema, serie):\n",
        "        self.__marca = marca\n",
        "        self.__almacenamiento = max(1, almacenamiento)\n",
        "        self._sistema = sistema\n",
        "        self.serie = serie\n",
        "\n",
        "    def get_marca(self):\n",
        "        return self.__marca\n",
        "\n",
        "    def get_almacenamiento(self):\n",
        "        return self.__almacenamiento\n",
        "\n",
        "    def get_sistema(self):\n",
        "        return self._sistema\n",
        "\n",
        "    def set_almacenamiento(self, almacenamiento):\n",
        "        if almacenamiento > 0:\n",
        "            self.__almacenamiento = almacenamiento\n"
      ],
      "metadata": {
        "id": "b767aaQvTCdD"
      },
      "execution_count": 2,
      "outputs": []
    },
    {
      "cell_type": "code",
      "source": [
        "class ReservaHotel:\n",
        "    def __init__(self, huesped, noches, tipo_habitacion, codigo):\n",
        "        self.__huesped = huesped\n",
        "        self.__noches = max(1, noches)\n",
        "        self._tipo_habitacion = tipo_habitacion\n",
        "        self.codigo = codigo\n",
        "\n",
        "    def get_huesped(self):\n",
        "        return self.__huesped\n",
        "\n",
        "    def get_noches(self):\n",
        "        return self.__noches\n",
        "\n",
        "    def set_noches(self, noches):\n",
        "        if noches > 0:\n",
        "            self.__noches = noches\n"
      ],
      "metadata": {
        "id": "9p7bY9ufTEy7"
      },
      "execution_count": 1,
      "outputs": []
    }
  ]
}