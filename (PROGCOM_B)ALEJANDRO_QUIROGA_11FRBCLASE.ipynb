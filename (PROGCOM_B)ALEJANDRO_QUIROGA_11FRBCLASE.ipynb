{
  "nbformat": 4,
  "nbformat_minor": 0,
  "metadata": {
    "colab": {
      "provenance": []
    },
    "kernelspec": {
      "name": "python3",
      "display_name": "Python 3"
    },
    "language_info": {
      "name": "python"
    }
  },
  "cells": [
    {
      "cell_type": "code",
      "execution_count": null,
      "metadata": {
        "colab": {
          "base_uri": "https://localhost:8080/"
        },
        "id": "gXZf49-mAMcX",
        "outputId": "04716459-7a10-464f-9123-dd8e08cffff7"
      },
      "outputs": [
        {
          "output_type": "stream",
          "name": "stdout",
          "text": [
            "cual es tu nombre?\n",
            "Alejandro\n",
            "hola Alejandro\n"
          ]
        }
      ],
      "source": [
        "print(\"cual es tu nombre?\")\n",
        "nombre = input() #asignacion y lectura\n",
        "print(\"hola\", nombre)"
      ]
    },
    {
      "cell_type": "code",
      "source": [
        "nombre=input(\"hola, cual es tu nombre?\")\n",
        "edad=input(\"cual es tu edad?\")\n",
        "altura=input(\"cual es tu altura?\")\n",
        "print(f\"hola {nombre} tienes una edad de {edad} y tienes una altura de {altura}\")\n"
      ],
      "metadata": {
        "colab": {
          "base_uri": "https://localhost:8080/"
        },
        "id": "QaBUYFvVAkHJ",
        "outputId": "b368a8e1-7cee-461b-c0bd-25f8d5f23973"
      },
      "execution_count": null,
      "outputs": [
        {
          "output_type": "stream",
          "name": "stdout",
          "text": [
            "hola, cual es tu nombre?a\n",
            "cual es tu edad?8\n",
            "cual es tu altura?1\n",
            "hola a tienes una edad de 8 y tienes una altura de 1\n",
            "tu edad por 3 es 888\n"
          ]
        }
      ]
    },
    {
      "cell_type": "markdown",
      "source": [
        "1 * escriba un programa que calcule el área de un triangulo pidiendo base y altura al usuario\n",
        "\n",
        "\n",
        "\n"
      ],
      "metadata": {
        "id": "0e9Aex6lIp2Y"
      }
    },
    {
      "cell_type": "code",
      "source": [
        "base = int(input(\"escribe la base del triángulo: \"))\n",
        "altura = int(input(\"escribe la altura del triángulo: \"))\n",
        "area = (base * altura) / 2\n",
        "print(\"El área del triángulo es:\", area)"
      ],
      "metadata": {
        "colab": {
          "base_uri": "https://localhost:8080/"
        },
        "id": "QZ0iWo8eI68s",
        "outputId": "9ea73596-9969-4bd0-8c19-ec55dbed202b"
      },
      "execution_count": null,
      "outputs": [
        {
          "output_type": "stream",
          "name": "stdout",
          "text": [
            "escribe la base del triángulo: 4\n",
            "escribe la altura del triángulo: 4\n",
            "El área del triángulo es: 8.0\n"
          ]
        }
      ]
    },
    {
      "cell_type": "markdown",
      "source": [
        "2. crea un programa que convierta grados celsius a fahrenheit usando la fórmula: F=(C x 9/5) + 32"
      ],
      "metadata": {
        "id": "dG_QqMuuKlY-"
      }
    },
    {
      "cell_type": "code",
      "source": [
        "celsius = int(input(\"Introduce la temperatura en grados Celsius: \"))\n",
        "fahrenheit = (celsius * 9 / 5) + 32\n",
        "print(\"La temperatura en Fahrenheit es:\", fahrenheit)"
      ],
      "metadata": {
        "colab": {
          "base_uri": "https://localhost:8080/"
        },
        "id": "DP-G-9WPLDhK",
        "outputId": "37628f8c-966a-4650-ab29-6039c134c4b4"
      },
      "execution_count": null,
      "outputs": [
        {
          "output_type": "stream",
          "name": "stdout",
          "text": [
            "Introduce la temperatura en grados Celsius: 2\n",
            "La temperatura en Fahrenheit es: 35.6\n"
          ]
        }
      ]
    },
    {
      "cell_type": "markdown",
      "source": [
        "3. desarrolla un programa que calcule el promedio de 3 numeros ingresados por el usuario"
      ],
      "metadata": {
        "id": "nos155rDLLBc"
      }
    },
    {
      "cell_type": "code",
      "source": [
        "print(\"ingrese 3 numeros\")\n",
        "n1=int(input(\"ingrese el primer numero: \"))\n",
        "n2=int(input(\"ingrese el segundo numero: \"))\n",
        "n3=int(input(\"ingrese el tercer numero: \"))\n",
        "print(\"el promedio de los numeros ingresados es: \", (n1+n2+n3)/3)"
      ],
      "metadata": {
        "colab": {
          "base_uri": "https://localhost:8080/"
        },
        "id": "1kiQxv7XLRnP",
        "outputId": "303abab5-3745-4239-8c8b-67f978b2382d"
      },
      "execution_count": null,
      "outputs": [
        {
          "output_type": "stream",
          "name": "stdout",
          "text": [
            "ingrese 3 numeros\n",
            "ingrese el primer numero: 1\n",
            "ingrese el segundo numero: 1\n",
            "ingrese el tercer numero: 1\n",
            "el promedio de los numeros ingresados es:  1.0\n"
          ]
        }
      ]
    },
    {
      "cell_type": "markdown",
      "source": [
        "4. escriba un programa que calcule el perimetro y área de un circulo desde su radio."
      ],
      "metadata": {
        "id": "Z2WWdsZMMbnz"
      }
    },
    {
      "cell_type": "code",
      "source": [
        "radio = int(input(\"Introduce el radio del círculo: \"))\n",
        "perimetro = 2 * 3.1416 * radio\n",
        "area = 3.1416 * radio ** 2\n",
        "print(\"El perímetro del círculo es:\", perimetro)\n",
        "print(\"El área del círculo es:\", area)"
      ],
      "metadata": {
        "colab": {
          "base_uri": "https://localhost:8080/"
        },
        "id": "vI1wL5QXMcgl",
        "outputId": "c579fe73-8041-4d4d-b84d-6bb68011a094"
      },
      "execution_count": null,
      "outputs": [
        {
          "output_type": "stream",
          "name": "stdout",
          "text": [
            "Introduce el radio del círculo: 6\n",
            "El perímetro del círculo es: 37.6992\n",
            "El área del círculo es: 113.0976\n"
          ]
        }
      ]
    },
    {
      "cell_type": "markdown",
      "source": [
        "5. crea un programa que resuealva una ecuación cuadratica (axʌ2 + bx + c =0) pidiendo los valores de a, b y c"
      ],
      "metadata": {
        "id": "pFhRd3sYMx20"
      }
    },
    {
      "cell_type": "code",
      "source": [
        "a = int(input(\"Introduce el valor de a: \"))\n",
        "b = int(input(\"Introduce el valor de b: \"))\n",
        "c = int(input(\"Introduce el valor de c: \"))\n",
        "discriminante = b**2 - 4*a*c\n",
        "raiz1 = (-b + (discriminante)**(1/2)) / (2 * a)\n",
        "raiz2 = (-b - (discriminante)**(1/2)) / (2 * a)\n",
        "print(\"Las soluciones son:\", raiz1, \"y\", raiz2)"
      ],
      "metadata": {
        "colab": {
          "base_uri": "https://localhost:8080/"
        },
        "id": "SPWCy2lFNOVb",
        "outputId": "f8871c15-82a6-43ed-e6c8-f74ea2fc1333"
      },
      "execution_count": null,
      "outputs": [
        {
          "output_type": "stream",
          "name": "stdout",
          "text": [
            "Introduce el valor de a: 1\n",
            "Introduce el valor de b: 1\n",
            "Introduce el valor de c: 1\n",
            "Las soluciones son: (-0.49999999999999994+0.8660254037844386j) y (-0.5-0.8660254037844386j)\n"
          ]
        }
      ]
    },
    {
      "cell_type": "markdown",
      "source": [
        "6. Desarrolla un programa que determine si un número es par o impar."
      ],
      "metadata": {
        "id": "oqP8oBSvEI14"
      }
    },
    {
      "cell_type": "code",
      "source": [
        "numero = int(input(\"Introduce un número: \"))\n",
        "match numero % 2:\n",
        "    case 0:\n",
        "        print(\"El número es par.\")\n",
        "    case 1:\n",
        "        print(\"El número es impar.\")"
      ],
      "metadata": {
        "colab": {
          "base_uri": "https://localhost:8080/"
        },
        "id": "FWQIIefGEK8C",
        "outputId": "8675b2d6-4fa2-4d72-c700-5da96edc234c"
      },
      "execution_count": null,
      "outputs": [
        {
          "output_type": "stream",
          "name": "stdout",
          "text": [
            "Introduce un número: 3\n",
            "El número es impar.\n"
          ]
        }
      ]
    },
    {
      "cell_type": "markdown",
      "source": [
        "7. Crea un programa que determine si un año es bisiesto (divisible por 4 y no por 100, o divisible por 400)."
      ],
      "metadata": {
        "id": "kIRJ_dmqG9vG"
      }
    },
    {
      "cell_type": "code",
      "source": [
        "año = int(input(\"Introduce un año: \"))\n",
        "match (anio % 4 == 0, anio % 100 == 0, anio % 400 == 0):\n",
        "    case (True, False, _):\n",
        "        print(\"El año es bisiesto.\")\n",
        "    case (True, True, True):\n",
        "        print(\"El año es bisiesto.\")\n",
        "    case _:\n",
        "        print(\"El año no es bisiesto.\")"
      ],
      "metadata": {
        "id": "opkl4ATmHAMm"
      },
      "execution_count": null,
      "outputs": []
    },
    {
      "cell_type": "markdown",
      "source": [
        "8. Escribe un programa que solicite el nombre del usuario y determine si una persona pertenece a la tercera edad (70 años o más) y si se cumple la condición, imprima que se le da prioridad en la fila."
      ],
      "metadata": {
        "id": "4zrzm9yaHNxB"
      }
    },
    {
      "cell_type": "code",
      "source": [
        "nombre = input(\"Introduce tu nombre: \")\n",
        "edad = int(input(\"Introduce tu edad: \"))\n",
        "match edad >= 70:\n",
        "    case True:\n",
        "        print(f\"{nombre}, tienes {edad} años. Se te da prioridad en la fila.\")\n",
        "    case False:\n",
        "        print(f\"{nombre}, tienes {edad} años. No se te da prioridad en la fila.\")"
      ],
      "metadata": {
        "id": "UqkCc8PZHU1m"
      },
      "execution_count": null,
      "outputs": []
    },
    {
      "cell_type": "markdown",
      "source": [
        "9. Desarrolla un programa que compare tres números y muestre el mayor."
      ],
      "metadata": {
        "id": "IuA7YiJMHo73"
      }
    },
    {
      "cell_type": "code",
      "source": [
        "numero1 = int(input(\"Introduce el primer número: \"))\n",
        "numero2 = int(input(\"Introduce el segundo número: \"))\n",
        "numero3 = int(input(\"Introduce el tercer número: \"))\n",
        "    case (numero1 >= numero2 and numero1 >= numero3):\n",
        "        print(f\"El número mayor es: {numero1}\")\n",
        "    case (numero2 >= numero1 and numero2 >= numero3):\n",
        "        print(f\"El número mayor es: {numero2}\")\n",
        "    case (numero3 >= numero1 and numero3 >= numero2):\n",
        "        print(f\"El número mayor es: {numero3}\")"
      ],
      "metadata": {
        "id": "sOzPLSg8HpD5"
      },
      "execution_count": null,
      "outputs": []
    },
    {
      "cell_type": "markdown",
      "source": [
        "10. Crea un programa que determine si un triángulo es equilátero, isósceles o escaleno según sus lados."
      ],
      "metadata": {
        "id": "vEQEEdV0Hw2m"
      }
    },
    {
      "cell_type": "code",
      "source": [
        "lado1 = int(input(\"Introduce el primer lado del triángulo: \"))\n",
        "lado2 = int(input(\"Introduce el segundo lado del triángulo: \"))\n",
        "lado3 = int(input(\"Introduce el tercer lado del triángulo: \"))\n",
        "match (lado1, lado2, lado3):\n",
        "    case (l, l, l):\n",
        "        print(\"El triángulo es equilátero.\")\n",
        "    case (l1, l2, l3) if l1 == l2 or l2 == l3 or l1 == l3:\n",
        "        print(\"El triángulo es isósceles.\")\n",
        "    case _:\n",
        "        print(\"El triángulo es escaleno.\")"
      ],
      "metadata": {
        "id": "cVYniZjVH4Zs"
      },
      "execution_count": null,
      "outputs": []
    },
    {
      "cell_type": "markdown",
      "source": [
        "11. Escribe un programa que calcule el índice de masa corporal (IMC) y determine la categoría (bajo peso, normal, sobrepeso, obesidad). Al final, el programa debe imprimir: el nombre del usuario, su categoría y una breve descripción de lo que debe hacer de acuerdo a su categoría."
      ],
      "metadata": {
        "id": "tcfHDIx_lNgl"
      }
    },
    {
      "cell_type": "code",
      "source": [
        "import math\n",
        "print(\"¡Bienvenido al programa de cálculo de IMC!\")\n",
        "while True:"
      ],
      "metadata": {
        "colab": {
          "base_uri": "https://localhost:8080/"
        },
        "id": "DzYEhSB0lSDs",
        "outputId": "3cf6a19d-e4cf-4b7d-dc52-59258408fd68"
      },
      "execution_count": 1,
      "outputs": [
        {
          "output_type": "stream",
          "name": "stdout",
          "text": [
            "¡Bienvenido al programa de cálculo de IMC!\n",
            "Ingresa tu peso en kg: 95\n",
            "Ingresa tu altura en metros: 1.78\n",
            "\n",
            "Tu IMC es 29.98.\n",
            "Categoría: Obesidad\n",
            "Te recomendamos que consultes a un médico para crear un plan de acción para reducir el peso.\n",
            "\n",
            "¿Quieres calcular otro IMC? (sí/no): no\n",
            "Gracias por usar el programa. ¡Cuídate!\n"
          ]
        }
      ]
    },
    {
      "cell_type": "markdown",
      "source": [
        "12. Desarrolla un programa que simule una calculadora simple (+, -, *, /) con dos números"
      ],
      "metadata": {
        "id": "qhOcAN6DnvRm"
      }
    },
    {
      "cell_type": "code",
      "source": [
        "print(\"¡Bienvenido a la calculadora simple!\")\n",
        "while True:\n",
        "    num1 = int(input(\"Ingresa el primer número: \"))\n",
        "    num2 = int(input(\"Ingresa el segundo número: \"))\n",
        "    print(\"Operaciones disponibles:\")\n",
        "    print(\"1. Suma (+)\")\n",
        "    print(\"2. Resta (-)\")\n",
        "    print(\"3. Multiplicación (*)\")\n",
        "    print(\"4. División (/)\")\n",
        "    operacion = input(\"Elige una operación (1/2/3/4): \")\n",
        "    if operacion == '1':\n",
        "        resultado = num1 + num2\n",
        "        print(f\"El resultado de {num1} + {num2} es: {resultado}\")\n",
        "    elif operacion == '2':\n",
        "        resultado = num1 - num2\n",
        "        print(f\"El resultado de {num1} - {num2} es: {resultado}\")\n",
        "    elif operacion == '3':\n",
        "        resultado = num1 * num2\n",
        "        print(f\"El resultado de {num1} * {num2} es: {resultado}\")\n",
        "    elif operacion == '4':\n",
        "        if num2 != 0:\n",
        "            resultado = num1 // num2\n",
        "            print(f\"El resultado de {num1} / {num2} es: {resultado}\")\n",
        "        else:\n",
        "            print(\"¡Error! No se puede dividir entre cero.\")\n",
        "    else:\n",
        "        print(\"Opción no válida, por favor ingresa una opción entre 1 y 4.\")\n",
        "    continuar = input(\"\\n¿Quieres realizar otra operación? (sí/no): \")\n",
        "    if continuar == 'no' or continuar == 'NO':\n",
        "        print(\"Gracias por usar la calculadora. ¡Hasta luego!\")\n",
        "        break\n",
        "    elif continuar != 'sí' and continuar != 'SI':\n",
        "        print(\"Opción no válida, por favor ingresa 'sí' o 'no'.\")"
      ],
      "metadata": {
        "id": "Me97oS9anvhj"
      },
      "execution_count": null,
      "outputs": []
    },
    {
      "cell_type": "markdown",
      "source": [
        "14. Escribe un programa que determine el día de la semana según un número (1-7)."
      ],
      "metadata": {
        "id": "3Xi-FXTCoVC7"
      }
    },
    {
      "cell_type": "code",
      "source": [
        "print(\"¡Bienvenido al programa que determina el día de la semana!\")\n",
        "while True:\n",
        "    dia_numero = int(input(\"Ingresa un número entre 1 y 7 para saber el día de la semana: \"))\n",
        "    if dia_numero == 1:\n",
        "        dia = \"Lunes\"\n",
        "    elif dia_numero == 2:\n",
        "        dia = \"Martes\"\n",
        "    elif dia_numero == 3:\n",
        "        dia = \"Miércoles\"\n",
        "    elif dia_numero == 4:\n",
        "        dia = \"Jueves\"\n",
        "    elif dia_numero == 5:\n",
        "        dia = \"Viernes\"\n",
        "    elif dia_numero == 6:\n",
        "        dia = \"Sábado\"\n",
        "    elif dia_numero == 7:\n",
        "        dia = \"Domingo\"\n",
        "    else:\n",
        "        print(\"Número inválido. Por favor ingresa un número entre 1 y 7.\")\n",
        "        continue\n",
        "    print(f\"El día correspondiente al número {dia_numero} es: {dia}\")"
      ],
      "metadata": {
        "id": "TWCzU_oloXXO"
      },
      "execution_count": null,
      "outputs": []
    },
    {
      "cell_type": "markdown",
      "source": [
        "16. Crea un programa que muestre la tabla de multiplicar de un número hasta el 10."
      ],
      "metadata": {
        "id": "GfRguRULo5-7"
      }
    },
    {
      "cell_type": "code",
      "source": [
        "print(\"¡Bienvenido al programa que muestra la tabla de multiplicar de un número!\")\n",
        "numero = int(input(\"Ingresa un número para ver su tabla de multiplicar: \"))\n",
        "print(f\"\\nTabla de multiplicar del {numero}:\")\n",
        "for i in range(1, 11):\n",
        "    resultado = numero * i\n",
        "    print(f\"{numero} x {i} = {resultado}\")\n",
        "continuar = input(\"\\n¿Quieres ver otra tabla? (sí/no): \")\n",
        "if continuar == 'no' or continuar == 'NO':\n",
        "    print(\"Gracias por usar el programa. ¡Hasta luego!\")"
      ],
      "metadata": {
        "colab": {
          "base_uri": "https://localhost:8080/"
        },
        "id": "vS3Kmp1GqOBq",
        "outputId": "77ac7403-6d32-442f-8374-38c49fd7d845"
      },
      "execution_count": 5,
      "outputs": [
        {
          "output_type": "stream",
          "name": "stdout",
          "text": [
            "¡Bienvenido al programa que muestra la tabla de multiplicar de un número!\n",
            "Ingresa un número para ver su tabla de multiplicar: 5\n",
            "\n",
            "Tabla de multiplicar del 5:\n",
            "5 x 1 = 5\n",
            "5 x 2 = 10\n",
            "5 x 3 = 15\n",
            "5 x 4 = 20\n",
            "5 x 5 = 25\n",
            "5 x 6 = 30\n",
            "5 x 7 = 35\n",
            "5 x 8 = 40\n",
            "5 x 9 = 45\n",
            "5 x 10 = 50\n",
            "\n",
            "¿Quieres ver otra tabla? (sí/no): no\n",
            "Gracias por usar el programa. ¡Hasta luego!\n"
          ]
        }
      ]
    }
  ]
}