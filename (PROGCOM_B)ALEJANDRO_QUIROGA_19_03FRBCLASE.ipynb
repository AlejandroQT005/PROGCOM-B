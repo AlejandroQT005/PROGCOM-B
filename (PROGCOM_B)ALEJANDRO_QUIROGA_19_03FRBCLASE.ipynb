{
  "cells": [
    {
      "cell_type": "code",
      "execution_count": null,
      "metadata": {
        "colab": {
          "base_uri": "https://localhost:8080/"
        },
        "id": "gXZf49-mAMcX",
        "outputId": "04716459-7a10-464f-9123-dd8e08cffff7"
      },
      "outputs": [
        {
          "name": "stdout",
          "output_type": "stream",
          "text": [
            "cual es tu nombre?\n",
            "Alejandro\n",
            "hola Alejandro\n"
          ]
        }
      ],
      "source": [
        "print(\"cual es tu nombre?\")\n",
        "nombre = input() #asignacion y lectura\n",
        "print(\"hola\", nombre)"
      ]
    },
    {
      "cell_type": "code",
      "execution_count": null,
      "metadata": {
        "colab": {
          "base_uri": "https://localhost:8080/"
        },
        "id": "QaBUYFvVAkHJ",
        "outputId": "b368a8e1-7cee-461b-c0bd-25f8d5f23973"
      },
      "outputs": [
        {
          "name": "stdout",
          "output_type": "stream",
          "text": [
            "hola, cual es tu nombre?a\n",
            "cual es tu edad?8\n",
            "cual es tu altura?1\n",
            "hola a tienes una edad de 8 y tienes una altura de 1\n",
            "tu edad por 3 es 888\n"
          ]
        }
      ],
      "source": [
        "nombre=input(\"hola, cual es tu nombre?\")\n",
        "edad=input(\"cual es tu edad?\")\n",
        "altura=input(\"cual es tu altura?\")\n",
        "print(f\"hola {nombre} tienes una edad de {edad} y tienes una altura de {altura}\")\n"
      ]
    },
    {
      "cell_type": "markdown",
      "metadata": {
        "id": "0e9Aex6lIp2Y"
      },
      "source": [
        "1 * escriba un programa que calcule el área de un triangulo pidiendo base y altura al usuario\n",
        "\n",
        "\n",
        "\n"
      ]
    },
    {
      "cell_type": "code",
      "execution_count": null,
      "metadata": {
        "colab": {
          "base_uri": "https://localhost:8080/"
        },
        "id": "QZ0iWo8eI68s",
        "outputId": "9ea73596-9969-4bd0-8c19-ec55dbed202b"
      },
      "outputs": [
        {
          "name": "stdout",
          "output_type": "stream",
          "text": [
            "escribe la base del triángulo: 4\n",
            "escribe la altura del triángulo: 4\n",
            "El área del triángulo es: 8.0\n"
          ]
        }
      ],
      "source": [
        "base = int(input(\"escribe la base del triángulo: \"))\n",
        "altura = int(input(\"escribe la altura del triángulo: \"))\n",
        "area = (base * altura) / 2\n",
        "print(\"El área del triángulo es:\", area)"
      ]
    },
    {
      "cell_type": "markdown",
      "metadata": {
        "id": "dG_QqMuuKlY-"
      },
      "source": [
        "2. crea un programa que convierta grados celsius a fahrenheit usando la fórmula: F=(C x 9/5) + 32"
      ]
    },
    {
      "cell_type": "code",
      "execution_count": null,
      "metadata": {
        "colab": {
          "base_uri": "https://localhost:8080/"
        },
        "id": "DP-G-9WPLDhK",
        "outputId": "37628f8c-966a-4650-ab29-6039c134c4b4"
      },
      "outputs": [
        {
          "name": "stdout",
          "output_type": "stream",
          "text": [
            "Introduce la temperatura en grados Celsius: 2\n",
            "La temperatura en Fahrenheit es: 35.6\n"
          ]
        }
      ],
      "source": [
        "celsius = int(input(\"Introduce la temperatura en grados Celsius: \"))\n",
        "fahrenheit = (celsius * 9 / 5) + 32\n",
        "print(\"La temperatura en Fahrenheit es:\", fahrenheit)"
      ]
    },
    {
      "cell_type": "markdown",
      "metadata": {
        "id": "nos155rDLLBc"
      },
      "source": [
        "3. desarrolla un programa que calcule el promedio de 3 numeros ingresados por el usuario"
      ]
    },
    {
      "cell_type": "code",
      "execution_count": null,
      "metadata": {
        "colab": {
          "base_uri": "https://localhost:8080/"
        },
        "id": "1kiQxv7XLRnP",
        "outputId": "303abab5-3745-4239-8c8b-67f978b2382d"
      },
      "outputs": [
        {
          "name": "stdout",
          "output_type": "stream",
          "text": [
            "ingrese 3 numeros\n",
            "ingrese el primer numero: 1\n",
            "ingrese el segundo numero: 1\n",
            "ingrese el tercer numero: 1\n",
            "el promedio de los numeros ingresados es:  1.0\n"
          ]
        }
      ],
      "source": [
        "print(\"ingrese 3 numeros\")\n",
        "n1=int(input(\"ingrese el primer numero: \"))\n",
        "n2=int(input(\"ingrese el segundo numero: \"))\n",
        "n3=int(input(\"ingrese el tercer numero: \"))\n",
        "print(\"el promedio de los numeros ingresados es: \", (n1+n2+n3)/3)"
      ]
    },
    {
      "cell_type": "markdown",
      "metadata": {
        "id": "Z2WWdsZMMbnz"
      },
      "source": [
        "4. escriba un programa que calcule el perimetro y área de un circulo desde su radio."
      ]
    },
    {
      "cell_type": "code",
      "execution_count": null,
      "metadata": {
        "colab": {
          "base_uri": "https://localhost:8080/"
        },
        "id": "vI1wL5QXMcgl",
        "outputId": "c579fe73-8041-4d4d-b84d-6bb68011a094"
      },
      "outputs": [
        {
          "name": "stdout",
          "output_type": "stream",
          "text": [
            "Introduce el radio del círculo: 6\n",
            "El perímetro del círculo es: 37.6992\n",
            "El área del círculo es: 113.0976\n"
          ]
        }
      ],
      "source": [
        "radio = int(input(\"Introduce el radio del círculo: \"))\n",
        "perimetro = 2 * 3.1416 * radio\n",
        "area = 3.1416 * radio ** 2\n",
        "print(\"El perímetro del círculo es:\", perimetro)\n",
        "print(\"El área del círculo es:\", area)"
      ]
    },
    {
      "cell_type": "markdown",
      "metadata": {
        "id": "pFhRd3sYMx20"
      },
      "source": [
        "5. crea un programa que resuealva una ecuación cuadratica (axʌ2 + bx + c =0) pidiendo los valores de a, b y c"
      ]
    },
    {
      "cell_type": "code",
      "execution_count": null,
      "metadata": {
        "colab": {
          "base_uri": "https://localhost:8080/"
        },
        "id": "SPWCy2lFNOVb",
        "outputId": "f8871c15-82a6-43ed-e6c8-f74ea2fc1333"
      },
      "outputs": [
        {
          "name": "stdout",
          "output_type": "stream",
          "text": [
            "Introduce el valor de a: 1\n",
            "Introduce el valor de b: 1\n",
            "Introduce el valor de c: 1\n",
            "Las soluciones son: (-0.49999999999999994+0.8660254037844386j) y (-0.5-0.8660254037844386j)\n"
          ]
        }
      ],
      "source": [
        "a = int(input(\"Introduce el valor de a: \"))\n",
        "b = int(input(\"Introduce el valor de b: \"))\n",
        "c = int(input(\"Introduce el valor de c: \"))\n",
        "discriminante = b**2 - 4*a*c\n",
        "raiz1 = (-b + (discriminante)**(1/2)) / (2 * a)\n",
        "raiz2 = (-b - (discriminante)**(1/2)) / (2 * a)\n",
        "print(\"Las soluciones son:\", raiz1, \"y\", raiz2)"
      ]
    },
    {
      "cell_type": "markdown",
      "metadata": {
        "id": "oqP8oBSvEI14"
      },
      "source": [
        "6. Desarrolla un programa que determine si un número es par o impar."
      ]
    },
    {
      "cell_type": "code",
      "execution_count": null,
      "metadata": {
        "colab": {
          "base_uri": "https://localhost:8080/"
        },
        "id": "FWQIIefGEK8C",
        "outputId": "8675b2d6-4fa2-4d72-c700-5da96edc234c"
      },
      "outputs": [
        {
          "name": "stdout",
          "output_type": "stream",
          "text": [
            "Introduce un número: 3\n",
            "El número es impar.\n"
          ]
        }
      ],
      "source": [
        "numero = int(input(\"Introduce un número: \"))\n",
        "match numero % 2:\n",
        "    case 0:\n",
        "        print(\"El número es par.\")\n",
        "    case 1:\n",
        "        print(\"El número es impar.\")"
      ]
    },
    {
      "cell_type": "markdown",
      "metadata": {
        "id": "kIRJ_dmqG9vG"
      },
      "source": [
        "7. Crea un programa que determine si un año es bisiesto (divisible por 4 y no por 100, o divisible por 400)."
      ]
    },
    {
      "cell_type": "code",
      "execution_count": null,
      "metadata": {
        "id": "opkl4ATmHAMm"
      },
      "outputs": [],
      "source": [
        "año = int(input(\"Introduce un año: \"))\n",
        "match (anio % 4 == 0, anio % 100 == 0, anio % 400 == 0):\n",
        "    case (True, False, _):\n",
        "        print(\"El año es bisiesto.\")\n",
        "    case (True, True, True):\n",
        "        print(\"El año es bisiesto.\")\n",
        "    case _:\n",
        "        print(\"El año no es bisiesto.\")"
      ]
    },
    {
      "cell_type": "markdown",
      "metadata": {
        "id": "4zrzm9yaHNxB"
      },
      "source": [
        "8. Escribe un programa que solicite el nombre del usuario y determine si una persona pertenece a la tercera edad (70 años o más) y si se cumple la condición, imprima que se le da prioridad en la fila."
      ]
    },
    {
      "cell_type": "code",
      "execution_count": null,
      "metadata": {
        "id": "UqkCc8PZHU1m"
      },
      "outputs": [],
      "source": [
        "nombre = input(\"Introduce tu nombre: \")\n",
        "edad = int(input(\"Introduce tu edad: \"))\n",
        "match edad >= 70:\n",
        "    case True:\n",
        "        print(f\"{nombre}, tienes {edad} años. Se te da prioridad en la fila.\")\n",
        "    case False:\n",
        "        print(f\"{nombre}, tienes {edad} años. No se te da prioridad en la fila.\")"
      ]
    },
    {
      "cell_type": "markdown",
      "metadata": {
        "id": "IuA7YiJMHo73"
      },
      "source": [
        "9. Desarrolla un programa que compare tres números y muestre el mayor."
      ]
    },
    {
      "cell_type": "code",
      "execution_count": null,
      "metadata": {
        "id": "sOzPLSg8HpD5"
      },
      "outputs": [],
      "source": [
        "numero1 = int(input(\"Introduce el primer número: \"))\n",
        "numero2 = int(input(\"Introduce el segundo número: \"))\n",
        "numero3 = int(input(\"Introduce el tercer número: \"))\n",
        "    case (numero1 >= numero2 and numero1 >= numero3):\n",
        "        print(f\"El número mayor es: {numero1}\")\n",
        "    case (numero2 >= numero1 and numero2 >= numero3):\n",
        "        print(f\"El número mayor es: {numero2}\")\n",
        "    case (numero3 >= numero1 and numero3 >= numero2):\n",
        "        print(f\"El número mayor es: {numero3}\")"
      ]
    },
    {
      "cell_type": "markdown",
      "metadata": {
        "id": "vEQEEdV0Hw2m"
      },
      "source": [
        "10. Crea un programa que determine si un triángulo es equilátero, isósceles o escaleno según sus lados."
      ]
    },
    {
      "cell_type": "code",
      "execution_count": null,
      "metadata": {
        "id": "cVYniZjVH4Zs"
      },
      "outputs": [],
      "source": [
        "lado1 = int(input(\"Introduce el primer lado del triángulo: \"))\n",
        "lado2 = int(input(\"Introduce el segundo lado del triángulo: \"))\n",
        "lado3 = int(input(\"Introduce el tercer lado del triángulo: \"))\n",
        "match (lado1, lado2, lado3):\n",
        "    case (l, l, l):\n",
        "        print(\"El triángulo es equilátero.\")\n",
        "    case (l1, l2, l3) if l1 == l2 or l2 == l3 or l1 == l3:\n",
        "        print(\"El triángulo es isósceles.\")\n",
        "    case _:\n",
        "        print(\"El triángulo es escaleno.\")"
      ]
    },
    {
      "cell_type": "markdown",
      "metadata": {
        "id": "tcfHDIx_lNgl"
      },
      "source": [
        "11. Escribe un programa que calcule el índice de masa corporal (IMC) y determine la categoría (bajo peso, normal, sobrepeso, obesidad). Al final, el programa debe imprimir: el nombre del usuario, su categoría y una breve descripción de lo que debe hacer de acuerdo a su categoría."
      ]
    },
    {
      "cell_type": "code",
      "execution_count": null,
      "metadata": {
        "colab": {
          "background_save": true,
          "base_uri": "https://localhost:8080/"
        },
        "id": "DzYEhSB0lSDs",
        "outputId": "8d676a9c-5a8c-48d1-da05-204d2aecec17"
      },
      "outputs": [
        {
          "name": "stdout",
          "output_type": "stream",
          "text": [
            "Ingrese su nombre\n",
            "Ingrese su peso en Kg\n",
            "Ingrese su estatura en metros\n",
            "Alejandro Usted esta en un peso bajo, su IMC es de 0.0030004149510038623\n",
            "Ingrese su nombre\n"
          ]
        }
      ],
      "source": [
        "for IMC in range(1,3):\n",
        "  N=(input(print(\"Ingrese su nombre\")))\n",
        "  P=int(input(print(\"Ingrese su peso en Kg\")))\n",
        "  E=float(input(print(\"Ingrese su estatura en metros\")))\n",
        "  IMC=P/(E**2)\n",
        "  if IMC<=18.5:\n",
        "    print(f\"{N} Usted esta en un peso bajo, su IMC es de {IMC}\")\n",
        "  if IMC>=18.5 and IMC<=24.9:\n",
        "    print(f\"{N} Usted esta en un peso normal, su IMC es de {IMC}\")\n",
        "  if IMC>=25 and IMC<=29.9:\n",
        "    print(f\"{N} Usted esta en sobrepeso, su IMC es de {IMC}\")\n",
        "  if IMC>=30:\n",
        "    print(f\"{N} Usted esta en obesidad, su IMC es de {IMC}\")"
      ]
    },
    {
      "cell_type": "code",
      "execution_count": null,
      "metadata": {
        "id": "DPZb_CxCZJYM"
      },
      "outputs": [],
      "source": [
        "def IMC():\n",
        "  while True:\n",
        "    nombre = input(print(\"Ingrese su nombre: \"))\n",
        "    peso = float(input(print(\"Ingrese su peso en kg: \")))\n",
        "    estatura = float(input(print(\"Ingrese su estatura en metros: \")))\n",
        "    imc = peso / (estatura ** 2)\n",
        "  else: print('Error')"
      ]
    },
    {
      "cell_type": "markdown",
      "metadata": {
        "id": "qhOcAN6DnvRm"
      },
      "source": [
        "12. Desarrolla un programa que simule una calculadora simple (+, -, *, /) con dos números"
      ]
    },
    {
      "cell_type": "code",
      "execution_count": null,
      "metadata": {
        "id": "Me97oS9anvhj"
      },
      "outputs": [],
      "source": [
        "print(\"¡Bienvenido a la calculadora simple!\")\n",
        "while True:\n",
        "    num1 = int(input(\"Ingresa el primer número: \"))\n",
        "    num2 = int(input(\"Ingresa el segundo número: \"))\n",
        "    print(\"Operaciones disponibles:\")\n",
        "    print(\"1. Suma (+)\")\n",
        "    print(\"2. Resta (-)\")\n",
        "    print(\"3. Multiplicación (*)\")\n",
        "    print(\"4. División (/)\")\n",
        "    operacion = input(\"Elige una operación (1/2/3/4): \")\n",
        "    if operacion == '1':\n",
        "        resultado = num1 + num2\n",
        "        print(f\"El resultado de {num1} + {num2} es: {resultado}\")\n",
        "    elif operacion == '2':\n",
        "        resultado = num1 - num2\n",
        "        print(f\"El resultado de {num1} - {num2} es: {resultado}\")\n",
        "    elif operacion == '3':\n",
        "        resultado = num1 * num2\n",
        "        print(f\"El resultado de {num1} * {num2} es: {resultado}\")\n",
        "    elif operacion == '4':\n",
        "        if num2 != 0:\n",
        "            resultado = num1 // num2\n",
        "            print(f\"El resultado de {num1} / {num2} es: {resultado}\")\n",
        "        else:\n",
        "            print(\"¡Error! No se puede dividir entre cero.\")\n",
        "    else:\n",
        "        print(\"Opción no válida, por favor ingresa una opción entre 1 y 4.\")\n",
        "    continuar = input(\"\\n¿Quieres realizar otra operación? (sí/no): \")\n",
        "    if continuar == 'no' or continuar == 'NO':\n",
        "        print(\"Gracias por usar la calculadora. ¡Hasta luego!\")\n",
        "        break\n",
        "    elif continuar != 'sí' and continuar != 'SI':\n",
        "        print(\"Opción no válida, por favor ingresa 'sí' o 'no'.\")"
      ]
    },
    {
      "cell_type": "markdown",
      "metadata": {
        "id": "a0ThafNHZQIc"
      },
      "source": [
        "13. Crea un programa que determine la calificación en letras (A, B, C, D, F) según una nota numérica (0-100)."
      ]
    },
    {
      "cell_type": "code",
      "execution_count": null,
      "metadata": {
        "id": "eY-EQ1OMZS7N"
      },
      "outputs": [],
      "source": [
        "def calificación():\n",
        "  while True:\n",
        "    C1=input(print(\"Ingrese su nota\"))\n",
        "  if C1==\"A\":\n",
        "    print(\"Su nota es:\")\n",
        "    print(\"100\")\n",
        "  elif C1==\"B\":\n",
        "    print(\"Su nota es:\")\n",
        "    print(\"80\")\n",
        "  elif C1==\"C\":\n",
        "    print(\"Su nota es:\")\n",
        "    print(\"60\")\n",
        "  elif C1==\"D\":\n",
        "    print(\"Su nota es:\")\n",
        "    print(\"40\")\n",
        "  elif C1==\"F\":\n",
        "    print(\"Su nota es:\")\n",
        "    print(\"20\")\n",
        "  else:\n",
        "    print(\"Error\")"
      ]
    },
    {
      "cell_type": "markdown",
      "metadata": {
        "id": "3Xi-FXTCoVC7"
      },
      "source": [
        "14. Escribe un programa que determine el día de la semana según un número (1-7)."
      ]
    },
    {
      "cell_type": "code",
      "execution_count": null,
      "metadata": {
        "id": "TWCzU_oloXXO"
      },
      "outputs": [],
      "source": [
        "print(\"¡Bienvenido al programa que determina el día de la semana!\")\n",
        "while True:\n",
        "    dia_numero = int(input(\"Ingresa un número entre 1 y 7 para saber el día de la semana: \"))\n",
        "    if dia_numero == 1:\n",
        "        dia = \"Lunes\"\n",
        "    elif dia_numero == 2:\n",
        "        dia = \"Martes\"\n",
        "    elif dia_numero == 3:\n",
        "        dia = \"Miércoles\"\n",
        "    elif dia_numero == 4:\n",
        "        dia = \"Jueves\"\n",
        "    elif dia_numero == 5:\n",
        "        dia = \"Viernes\"\n",
        "    elif dia_numero == 6:\n",
        "        dia = \"Sábado\"\n",
        "    elif dia_numero == 7:\n",
        "        dia = \"Domingo\"\n",
        "    else:\n",
        "        print(\"Número inválido. Por favor ingresa un número entre 1 y 7.\")\n",
        "        continue\n",
        "    print(f\"El día correspondiente al número {dia_numero} es: {dia}\")"
      ]
    },
    {
      "cell_type": "markdown",
      "metadata": {
        "id": "M6W2Gf3hztl2"
      },
      "source": [
        "15. Desarrolla un programa que valide si tres números pueden formar un triángulo y de qué tipo es"
      ]
    },
    {
      "cell_type": "code",
      "execution_count": null,
      "metadata": {
        "id": "KsXpsMfuzt_O"
      },
      "outputs": [],
      "source": [
        "for Triangulo in range(1,4):\n",
        "  L1=int(input(print(\"Ingrese un lado del triangulo en metros\")))\n",
        "  L2=int(input(print(\"Ingrese un lado del triangulo en metros\")))\n",
        "  L3=int(input(print(\"Ingrese un lado del triangulo en metros\")))\n",
        "  if (L1+L2>=L3) and (L2+L3>=L1) and (L3+L1>=L2):\n",
        "    print(\"El triangulo es valido\")\n",
        "    if L1==L2 and L2==L3:\n",
        "      print(\"El triangulo es equilatero\")\n",
        "    elif L1==L2 or L2==L3 or L1==L3:\n",
        "      print(\"El triangulo es isoceles\")\n",
        "    else:\n",
        "     print(\"El triangulo es escaleno\")\n",
        "  else:\n",
        "    print(\"El triangulo no es valido\")\n",
        "\n",
        "\n",
        "def T():\n",
        " while L1 >= 0:\n",
        "   L1 = int(input(\"Ingresa el primer lado: \"))\n",
        "   if L1 <= 0:\n",
        "    print(\"El lado debe ser mayor a 0\")\n",
        "\n",
        "   while L2 >= 0:\n",
        "    L2 = int(input(\"Ingresa el segundo lado: \"))\n",
        "    if L2 <= 0:\n",
        "     print(\"El lado debe ser mayor a 0\")\n",
        "\n",
        "    while L3 >= 0:\n",
        "     L3 = int(input(\"Ingresa el tercer lado: \"))\n",
        "    if L3 <= 0:\n",
        "     print(\"El lado debe ser mayor a 0\")\n",
        "\n",
        "   if(L1 + L2 > L3  and L1 + L3 > L2 and L2 + L3 > L1):\n",
        "    print(\"Se puede formar un triangulo\")\n",
        "    if(L1 == L2 and L2 == L3):\n",
        "      print(\"El triangulo es equilatero\")\n",
        "    elif(L1 == L2 or L1 == L3 or L2 == L3):\n",
        "      print(\"El triangulo es isoceles\")\n",
        "    else:\n",
        "      print(\"El triangulo es escaleno\")\n",
        " else:\n",
        "   print(\"No se puede formar un triangulo\")\n"
      ]
    },
    {
      "cell_type": "markdown",
      "metadata": {
        "id": "GfRguRULo5-7"
      },
      "source": [
        "16. Crea un programa que muestre la tabla de multiplicar de un número hasta el 10."
      ]
    },
    {
      "cell_type": "code",
      "execution_count": null,
      "metadata": {
        "colab": {
          "base_uri": "https://localhost:8080/"
        },
        "id": "vS3Kmp1GqOBq",
        "outputId": "77ac7403-6d32-442f-8374-38c49fd7d845"
      },
      "outputs": [
        {
          "name": "stdout",
          "output_type": "stream",
          "text": [
            "¡Bienvenido al programa que muestra la tabla de multiplicar de un número!\n",
            "Ingresa un número para ver su tabla de multiplicar: 5\n",
            "\n",
            "Tabla de multiplicar del 5:\n",
            "5 x 1 = 5\n",
            "5 x 2 = 10\n",
            "5 x 3 = 15\n",
            "5 x 4 = 20\n",
            "5 x 5 = 25\n",
            "5 x 6 = 30\n",
            "5 x 7 = 35\n",
            "5 x 8 = 40\n",
            "5 x 9 = 45\n",
            "5 x 10 = 50\n",
            "\n",
            "¿Quieres ver otra tabla? (sí/no): no\n",
            "Gracias por usar el programa. ¡Hasta luego!\n"
          ]
        }
      ],
      "source": [
        "print(\"¡Bienvenido al programa que muestra la tabla de multiplicar de un número!\")\n",
        "numero = int(input(\"Ingresa un número para ver su tabla de multiplicar: \"))\n",
        "print(f\"\\nTabla de multiplicar del {numero}:\")\n",
        "for i in range(1, 11):\n",
        "    resultado = numero * i\n",
        "    print(f\"{numero} x {i} = {resultado}\")\n",
        "continuar = input(\"\\n¿Quieres ver otra tabla? (sí/no): \")\n",
        "if continuar == 'no' or continuar == 'NO':\n",
        "    print(\"Gracias por usar el programa. ¡Hasta luego!\")"
      ]
    },
    {
      "cell_type": "markdown",
      "metadata": {
        "id": "12GhAYDS0fL4"
      },
      "source": [
        "17. Escribe un programa que calcule la suma de números naturales hasta n."
      ]
    },
    {
      "cell_type": "code",
      "execution_count": null,
      "metadata": {
        "id": "tkzKyj9B0pR-"
      },
      "outputs": [],
      "source": [
        "def suma(n):\n",
        "\n",
        " while True:\n",
        "        n = int(input(\"Que cantidad de veces quiere sumar los numeros?\"))\n",
        "        n1 = int(input(\"Ingresa un número entero positivo: \"))\n",
        "        n2 = int(input(\"Ingresa el segundo número entero positivo: \"))\n",
        "        if n1 < 0 and n2 < 0:\n",
        "            print(\"Error\")\n",
        "        else:\n",
        "            print(f'la suma de los numeros es {(n1+n2)*n}')\n",
        "            break"
      ]
    },
    {
      "cell_type": "code",
      "execution_count": null,
      "metadata": {
        "id": "NQ0uJG1N0qDY"
      },
      "outputs": [],
      "source": [
        "for N in range (1,3):\n",
        "  n=int(input(print(\"Que cantidad de veces quiere sumar los numeros?\")))\n",
        "  n1=int(input(print(\"Ingrese un número\")))\n",
        "  n2=int(input(print(\"Ingrese un número\")))\n",
        "  if n1<0 and n2<0:\n",
        "    print(\"Error\")\n",
        "  else:\n",
        "    print(f'la suma de los numeros es {((n1+n2)*n)}')"
      ]
    },
    {
      "cell_type": "markdown",
      "metadata": {
        "id": "rXMLSz3p0tLP"
      },
      "source": [
        "20. Escribe un programa que adivine entre un conjunto de diez colores definidos por el usuario, con un máximo de 10 intentos."
      ]
    },
    {
      "cell_type": "code",
      "execution_count": null,
      "metadata": {
        "id": "fEXTZS7k3xqw"
      },
      "outputs": [],
      "source": [
        "\n",
        "def color():\n",
        "  colores = [\"Azul\", \"Amarillo\", \"Rojo\", \"Verde\", \"Naranja\", \"Morado\", \"Blanco\", \"Negro\"]\n",
        "  print(\"Los colores a adivinar son: Azul, Amarillo, Rojo, Verde, Naranja, Morado, Blanco, Negro]\")\n",
        "  random.choice(colores)\n",
        "  for i in range (0,9):\n",
        "    C1=input(\"Adivina el color:\")\n",
        "    if C1==random.choice(colores):\n",
        "      print(\"Correcto\")\n",
        "    else:\n",
        "      print(\"Incorrecto\")"
      ]
    },
    {
      "cell_type": "code",
      "execution_count": null,
      "metadata": {
        "id": "Vfz8UW_N3z4A"
      },
      "outputs": [],
      "source": [
        "import random\n",
        "colores = [\"Azul\", \"Amarillo\", \"Rojo\", \"Verde\", \"Naranja\", \"Morado\", \"Blanco\", \"Negro\"]\n",
        "print(\"Los colores a adivinar son: Azul, Amarillo, Rojo, Verde, Naranja, Morado, Blanco, Negro\")\n",
        "color_adivinar = random.choice(colores)\n",
        "intentos = 0\n",
        "C=print(\"Adivida el color:Azul, Amarillo, Rojo, Verde, Naranja, Morado, Blanco, Negro\")\n",
        "while intentos < 10:\n",
        "    C1 = input(\"Ingrese un color: \")\n",
        "    if C1 == color_adivinar:\n",
        "        print(\"Correcto\")\n",
        "        break\n",
        "    else:\n",
        "         print(\"Incorrecto\")\n",
        "    intentos += 1"
      ]
    },
    {
      "cell_type": "markdown",
      "source": [
        "15. Validar si tres números pueden formar un triángulo y su tipo"
      ],
      "metadata": {
        "id": "5yTdxn4Moi2W"
      }
    },
    {
      "cell_type": "code",
      "source": [
        "a = int(input(\"Ingrese el primer lado: \"))\n",
        "b = int(input(\"Ingrese el segundo lado: \"))\n",
        "c = int(input(\"Ingrese el tercer lado: \"))\n",
        "\n",
        "def tipo_triangulo(a, b, c):\n",
        "    if a + b > c and a + c > b and b + c > a:\n",
        "        if a == b == c:\n",
        "            return \"Equilátero\"\n",
        "        elif a == b or a == c or b == c:\n",
        "            return \"Isósceles\"\n",
        "        else:\n",
        "            return \"Escaleno\"\n",
        "    return \"No es un triángulo\"\n",
        "\n",
        "print(\"Tipo de triángulo:\", tipo_triangulo(a, b, c))"
      ],
      "metadata": {
        "colab": {
          "base_uri": "https://localhost:8080/"
        },
        "id": "avtbmMidovDF",
        "outputId": "51c5814f-89e4-4bae-c112-a9301d1d3bd0"
      },
      "execution_count": null,
      "outputs": [
        {
          "output_type": "stream",
          "name": "stdout",
          "text": [
            "Ingrese el primer lado: 5\n",
            "Ingrese el segundo lado: 5\n",
            "Ingrese el tercer lado: 5\n",
            "Tipo de triángulo: Equilátero\n"
          ]
        }
      ]
    },
    {
      "cell_type": "markdown",
      "source": [
        "16. Tabla de multiplicar de un número"
      ],
      "metadata": {
        "id": "-x4f-y-Vowp9"
      }
    },
    {
      "cell_type": "code",
      "source": [
        "n = int(input(\"Ingrese un número: \"))\n",
        "for i in range(1, 11):\n",
        "    print(f\"{n} x {i} = {n * i}\")"
      ],
      "metadata": {
        "colab": {
          "base_uri": "https://localhost:8080/"
        },
        "id": "-XkSuJscpYV1",
        "outputId": "cfb86033-7868-4d68-8e80-2fe6045076a2"
      },
      "execution_count": null,
      "outputs": [
        {
          "output_type": "stream",
          "name": "stdout",
          "text": [
            "Ingrese un número: 3\n",
            "3 x 1 = 3\n",
            "3 x 2 = 6\n",
            "3 x 3 = 9\n",
            "3 x 4 = 12\n",
            "3 x 5 = 15\n",
            "3 x 6 = 18\n",
            "3 x 7 = 21\n",
            "3 x 8 = 24\n",
            "3 x 9 = 27\n",
            "3 x 10 = 30\n"
          ]
        }
      ]
    },
    {
      "cell_type": "markdown",
      "source": [
        "17. Suma de números naturales hasta n\n",
        "\n"
      ],
      "metadata": {
        "id": "59vSE-iTpcvl"
      }
    },
    {
      "cell_type": "code",
      "source": [
        "n = int(input(\"Ingrese un número: \"))\n",
        "suma = sum(range(1, n + 1))\n",
        "print(\"Suma:\", suma)"
      ],
      "metadata": {
        "colab": {
          "base_uri": "https://localhost:8080/"
        },
        "id": "rfn2QWUipekN",
        "outputId": "3a1c41ae-6e12-4624-89fd-4a3e46f7e68c"
      },
      "execution_count": null,
      "outputs": [
        {
          "output_type": "stream",
          "name": "stdout",
          "text": [
            "Ingrese un número: 6\n",
            "Suma: 21\n"
          ]
        }
      ]
    },
    {
      "cell_type": "markdown",
      "source": [
        "16. Factorial de un número"
      ],
      "metadata": {
        "id": "zLPu3G_LpnQl"
      }
    },
    {
      "cell_type": "code",
      "source": [
        "n = int(input(\"Ingrese un número: \"))\n",
        "factorial = 1\n",
        "i = 1\n",
        "while i <= n:\n",
        "    factorial *= i\n",
        "    i += 1\n",
        "print(\"Factorial:\", factorial)"
      ],
      "metadata": {
        "colab": {
          "base_uri": "https://localhost:8080/"
        },
        "id": "c54sUN4Jpo_9",
        "outputId": "cf998711-b8ba-419c-d5d0-7b9d734e77ff"
      },
      "execution_count": null,
      "outputs": [
        {
          "output_type": "stream",
          "name": "stdout",
          "text": [
            "Ingrese un número: 4\n",
            "Factorial: 24\n"
          ]
        }
      ]
    },
    {
      "cell_type": "markdown",
      "source": [
        "17. Serie Fibonacci"
      ],
      "metadata": {
        "id": "gKbHQat9puzt"
      }
    },
    {
      "cell_type": "code",
      "source": [
        "n = int(input(\"Ingrese cuántos números de Fibonacci mostrar: \"))\n",
        "a, b = 0, 1\n",
        "for _ in range(n):\n",
        "    print(a, end=\" \")\n",
        "    a, b = b, a + b"
      ],
      "metadata": {
        "colab": {
          "base_uri": "https://localhost:8080/"
        },
        "id": "6GXY3EvepuVt",
        "outputId": "8367e5ed-3907-4adb-8528-e5b87bdd9b6d"
      },
      "execution_count": null,
      "outputs": [
        {
          "output_type": "stream",
          "name": "stdout",
          "text": [
            "Ingrese cuántos números de Fibonacci mostrar: 6\n",
            "0 1 1 2 3 5 "
          ]
        }
      ]
    },
    {
      "cell_type": "markdown",
      "source": [
        "18. Adivinar color"
      ],
      "metadata": {
        "id": "ifRrs_6Mp071"
      }
    },
    {
      "cell_type": "code",
      "source": [
        "colores = [input(f\"Color {i+1}: \") for i in range(10)]\n",
        "secreto = colores[0]  # Se asume que el primero es el secreto\n",
        "intentos = 0\n",
        "while intentos < 10:\n",
        "    intento = input(\"Adivina el color: \")\n",
        "    if intento == secreto:\n",
        "        print(\"¡Correcto!\")\n",
        "        break\n",
        "    intentos += 1"
      ],
      "metadata": {
        "colab": {
          "base_uri": "https://localhost:8080/"
        },
        "id": "zKk_SOHcp2Pl",
        "outputId": "99e7b711-91aa-4ad4-facb-e69512eb4a25"
      },
      "execution_count": null,
      "outputs": [
        {
          "output_type": "stream",
          "name": "stdout",
          "text": [
            "Color 1: verde\n",
            "Color 2: azuk\n",
            "Color 3: rojo\n",
            "Color 4: amarillo\n",
            "Color 5: negro\n",
            "Color 6: verde\n",
            "Color 7: z\n",
            "Color 8: rosado\n",
            "Color 9: nose\n",
            "Color 10: s\n",
            "Adivina el color: s\n",
            "Adivina el color: verde\n",
            "¡Correcto!\n"
          ]
        }
      ]
    },
    {
      "cell_type": "markdown",
      "source": [
        "19. Números pares del 1 al 100"
      ],
      "metadata": {
        "id": "zCQQTN7mqLT9"
      }
    },
    {
      "cell_type": "code",
      "source": [
        "for i in range(2, 101, 2):\n",
        "    print(i, end=\" \")\n",
        "n = int(input(\"Ingrese un número: \"))\n",
        "suma = 0\n",
        "while n > 0:\n",
        "    suma += n % 10\n",
        "    n //= 10\n",
        "print(\"Suma de dígitos:\", suma)"
      ],
      "metadata": {
        "colab": {
          "base_uri": "https://localhost:8080/"
        },
        "id": "R1ZjHer-qN8k",
        "outputId": "22dbb818-8476-497d-9e02-e4dd50182e64"
      },
      "execution_count": null,
      "outputs": [
        {
          "output_type": "stream",
          "name": "stdout",
          "text": [
            "2 4 6 8 10 12 14 16 18 20 22 24 26 28 30 32 34 36 38 40 42 44 46 48 50 52 54 56 58 60 62 64 66 68 70 72 74 76 78 80 82 84 86 88 90 92 94 96 98 100 Ingrese un número: 6\n",
            "Suma de dígitos: 6\n"
          ]
        }
      ]
    },
    {
      "cell_type": "markdown",
      "source": [
        "20. Suma de dígitos de un número"
      ],
      "metadata": {
        "id": "36llYFMaqcM8"
      }
    },
    {
      "cell_type": "code",
      "source": [
        "n = int(input(\"Ingrese un número: \"))\n",
        "suma = 0\n",
        "while n > 0:\n",
        "    suma += n % 10\n",
        "    n //= 10\n",
        "print(\"Suma de dígitos:\", suma)"
      ],
      "metadata": {
        "id": "FOHMJZWdqfYi"
      },
      "execution_count": null,
      "outputs": []
    },
    {
      "cell_type": "markdown",
      "source": [
        " 21. Determinar si un número es primo"
      ],
      "metadata": {
        "id": "OJX95KRkqiAU"
      }
    },
    {
      "cell_type": "code",
      "source": [
        "n = int(input(\"Ingrese un número: \"))\n",
        "es_primo = n > 1 and all(n % i != 0 for i in range(2, int(n ** 0.5) + 1))\n",
        "print(\"Es primo\" if es_primo else \"No es primo\")\n"
      ],
      "metadata": {
        "id": "tuvD0i2yqifc"
      },
      "execution_count": null,
      "outputs": []
    },
    {
      "cell_type": "markdown",
      "source": [
        "22. Patrón de triángulo con asteriscos"
      ],
      "metadata": {
        "id": "qbv4OSdHqkCc"
      }
    },
    {
      "cell_type": "code",
      "source": [
        "n = int(input(\"Ingrese el número de filas: \"))\n",
        "for i in range(1, n + 1):\n",
        "    print(\"*\" * i)\n"
      ],
      "metadata": {
        "id": "78-x1rEzqna8"
      },
      "execution_count": null,
      "outputs": []
    },
    {
      "cell_type": "markdown",
      "source": [
        "25. Potencia sin operador **"
      ],
      "metadata": {
        "id": "vRdgEYsOqpjU"
      }
    },
    {
      "cell_type": "code",
      "source": [
        "base = int(input(\"Base: \"))\n",
        "exp = int(input(\"Exponente: \"))\n",
        "resultado = 1\n",
        "for _ in range(exp):\n",
        "    resultado *= base\n",
        "print(\"Resultado:\", resultado)"
      ],
      "metadata": {
        "id": "5aGcpOC1qrKc"
      },
      "execution_count": null,
      "outputs": []
    },
    {
      "cell_type": "markdown",
      "source": [
        "Escribe un programa que adivine entre un conjunto de diez colores definidos por el usuario, con un máximo de 10 intentos.\n",
        "\n",
        "Desarrolla un programa que muestre los números pares del 1 al 100.\n",
        "\n",
        "Crea un programa que calcule la suma de los dígitos de un número.\n",
        "\n",
        "Escribe un programa que determine si un número es primo.\n",
        "\n",
        "Desarrolla un programa que muestre el patrón de un triángulo con asteriscos.\n",
        "\n",
        "Crea un programa que calcule la potencia de un número sin usar el operador **.\n",
        "\n",
        "Escribe un programa que muestre todas las tablas de multiplicar del 1 al 10.\n",
        "\n",
        "Desarrolla un programa que encuentre todos los números perfectos hasta n.\n",
        "\n",
        "Crea un programa que genere un patrón de diamante con asteriscos.\n",
        "\n",
        "Escribe un programa que encuentre todos los números Armstrong hasta n.\n",
        "\n",
        "Desarrolla un programa que simule un reloj digital mostrando horas, minutos y segundos durante un período específico."
      ],
      "metadata": {
        "id": "KueVtKa8x0K4"
      }
    },
    {
      "cell_type": "code",
      "source": [
        "import random\n",
        "colores = []\n",
        "for i in range(10):\n",
        "    color = input(f\"Ingrese el nombre del color #{i+1}: \")\n",
        "    colores.append(color)\n",
        "color_seleccionado = random.choice(colores)\n",
        "def adivinar_color():\n",
        "    intentos = 0\n",
        "    max_intentos = 10\n",
        "    while intentos < max_intentos:\n",
        "        intento = input(f\"Intento {intentos + 1}/{max_intentos}. Adivina el color: \")\n",
        "        if intento.lower() == color_seleccionado.lower():\n",
        "            print(\"¡Felicidades! Adivinaste el color.\")\n",
        "            return\n",
        "        print(\"Incorrecto. Intenta nuevamente.\")\n",
        "        intentos += 1\n",
        "    print(f\"Lo siento, no adivinaste el color. El color correcto era {color_seleccionado}.\")\n",
        "adivinar_color()"
      ],
      "metadata": {
        "id": "-Aurd-C-x1Zo"
      },
      "execution_count": null,
      "outputs": []
    },
    {
      "cell_type": "code",
      "source": [
        "import random\n",
        "colores = [input(f\"Ingrese el nombre del color #{i+1}: \") for i in range(10)]\n",
        "color_seleccionado = random.choice(colores)\n",
        "verificar_color = lambda intento: intento.lower() == color_seleccionado.lower()\n",
        "incrementar_intentos = lambda intentos: intentos + 1\n",
        "def adivinar_color():\n",
        "    intentos = 0\n",
        "    max_intentos = 10\n",
        "    while intentos < max_intentos:\n",
        "        intento = input(f\"Intento {intentos + 1}/{max_intentos}. Adivina el color: \")\n",
        "        if verificar_color(intento):\n",
        "            print(\"¡Felicidades! Adivinaste el color.\")\n",
        "            return\n",
        "        print(\"Incorrecto. Intenta nuevamente.\")\n",
        "        intentos = incrementar_intentos(intentos)\n",
        "    print(f\"Lo siento, no adivinaste el color. El color correcto era {color_seleccionado}.\")\n",
        "adivinar_color()"
      ],
      "metadata": {
        "id": "F1lH9okBx3-v"
      },
      "execution_count": null,
      "outputs": []
    },
    {
      "cell_type": "code",
      "source": [
        "pares = list(filter(lambda x: x % 2 == 0, range(1, 101)))\n",
        "print(pares)"
      ],
      "metadata": {
        "id": "L_Vhqyukx7p4"
      },
      "execution_count": null,
      "outputs": []
    },
    {
      "cell_type": "code",
      "source": [
        "pares = [x for x in range(1, 101) if x % 2 == 0]\n",
        "print(pares)"
      ],
      "metadata": {
        "id": "TzwdNM47x9Kk"
      },
      "execution_count": null,
      "outputs": []
    },
    {
      "cell_type": "code",
      "source": [
        "suma_digitos = lambda num: sum(map(int, str(num)))\n",
        "numero = int(input(\"Ingresa un número: \"))\n",
        "resultado = suma_digitos(numero)\n",
        "print(f\"La suma de los dígitos de {numero} es: {resultado}\")"
      ],
      "metadata": {
        "id": "rlB9cVRPx_AY"
      },
      "execution_count": null,
      "outputs": []
    },
    {
      "cell_type": "code",
      "source": [
        "numero = int(input(\"Ingresa un número: \"))\n",
        "suma_digitos = sum([int(digito) for digito in str(numero)])\n",
        "print(f\"La suma de los dígitos de {numero} es: {suma_digitos}\")"
      ],
      "metadata": {
        "id": "CiTlYXaTyA8t"
      },
      "execution_count": null,
      "outputs": []
    },
    {
      "cell_type": "code",
      "source": [
        "es_primo = lambda num: all(num % i != 0 for i in range(2, int(num ** 0.5) + 1)) if num > 1 else False\n",
        "numero = int(input(\"Ingresa un número: \"))\n",
        "if es_primo(numero):\n",
        "    print(f\"{numero} es un número primo.\")\n",
        "else:\n",
        "    print(f\"{numero} no es un número primo.\")"
      ],
      "metadata": {
        "id": "pWcEgWUIyCtQ"
      },
      "execution_count": null,
      "outputs": []
    },
    {
      "cell_type": "code",
      "source": [
        "numero = int(input(\"Ingresa un número: \"))\n",
        "es_primo = all([numero % i != 0 for i in range(2, int(numero ** 0.5) + 1)]) if numero > 1 else False\n",
        "if es_primo:\n",
        "    print(f\"{numero} es un número primo.\")\n",
        "else:\n",
        "    print(f\"{numero} no es un número primo.\")"
      ],
      "metadata": {
        "id": "5dQ-ytSCyEcV"
      },
      "execution_count": null,
      "outputs": []
    },
    {
      "cell_type": "code",
      "source": [
        "imprimir_triangulo = lambda filas: [print('*' * (i + 1)) for i in range(filas)]\n",
        "filas = int(input(\"Ingresa el número de filas para el triángulo: \"))\n",
        "imprimir_triangulo(filas)"
      ],
      "metadata": {
        "id": "SfNaHdHKyGCD"
      },
      "execution_count": null,
      "outputs": []
    },
    {
      "cell_type": "code",
      "source": [
        "filas = int(input(\"Ingresa el número de filas para el triángulo: \"))\n",
        "[print('*' * (i + 1)) for i in range(filas)]"
      ],
      "metadata": {
        "id": "Db7qQIpzyHwC"
      },
      "execution_count": null,
      "outputs": []
    },
    {
      "cell_type": "code",
      "source": [
        "potencia = lambda base, exponente: reduce(lambda x, _: x * base, range(exponente), 1) if exponente > 0 else 1\n",
        "from functools import reduce\n",
        "base = int(input(\"Ingresa la base: \"))\n",
        "exponente = int(input(\"Ingresa el exponente: \"))\n",
        "resultado = potencia(base, exponente)\n",
        "print(f\"{base} elevado a la potencia de {exponente} es: {resultado}\")"
      ],
      "metadata": {
        "id": "PnmtUjAIyKAq"
      },
      "execution_count": null,
      "outputs": []
    },
    {
      "cell_type": "code",
      "source": [
        "potencia = lambda base, exponente: base if exponente == 0 else reduce(lambda x, _: x * base, [1] * exponente)\n",
        "from functools import reduce\n",
        "base = int(input(\"Ingresa la base: \"))\n",
        "exponente = int(input(\"Ingresa el exponente: \"))\n",
        "resultado = potencia(base, exponente)\n",
        "print(f\"{base} elevado a la potencia de {exponente} es: {resultado}\")"
      ],
      "metadata": {
        "id": "tCdINwoNyL3g"
      },
      "execution_count": null,
      "outputs": []
    },
    {
      "cell_type": "code",
      "source": [
        "mostrar_tablas = lambda: [print(f\"Tabla del {i}:\\n\" + \"\\n\".join([f\"{i} x {j} = {i * j}\" for j in range(1, 11)]), \"\\n\") for i in range(1, 11)]\n",
        "mostrar_tablas()"
      ],
      "metadata": {
        "id": "td6qLYywyNgq"
      },
      "execution_count": null,
      "outputs": []
    }
  ],
  "metadata": {
    "colab": {
      "provenance": []
    },
    "kernelspec": {
      "display_name": "Python 3",
      "name": "python3"
    },
    "language_info": {
      "name": "python"
    }
  },
  "nbformat": 4,
  "nbformat_minor": 0
}